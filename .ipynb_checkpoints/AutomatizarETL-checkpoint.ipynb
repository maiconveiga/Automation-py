{
 "cells": [
  {
   "cell_type": "code",
   "execution_count": null,
   "id": "b3ab96db-5ed1-4d16-a820-3c0a9492c3ba",
   "metadata": {},
   "outputs": [],
   "source": [
    "## Primeiro importar a biblioteca do pandas"
   ]
  },
  {
   "cell_type": "code",
   "execution_count": 100,
   "id": "f9acdb2b-bd18-4770-b697-e3d0ef743ed1",
   "metadata": {},
   "outputs": [
    {
     "name": "stdin",
     "output_type": "stream",
     "text": [
      "Numero da tabela: 51\n",
      "Mês da tabela: dez\n",
      "Ano da tabela: 23\n"
     ]
    },
    {
     "name": "stdout",
     "output_type": "stream",
     "text": [
      "51. dez 23 Parts -> Sendo criada\n",
      "51. dez 23 Parts -> Criada\n",
      "51. dez 23 Ras -> Sendo criada\n",
      "51. dez 23 Ras -> Criada\n"
     ]
    }
   ],
   "source": [
    "import pandas as pd\n",
    "\n",
    "numero = input('Numero da tabela:')\n",
    "mes = input('Mês da tabela:')\n",
    "ano = input('Ano da tabela:')\n",
    "#######################################################\n",
    "nomeParts = numero + \". \"+ mes + \" \" + ano + \" Parts\"\n",
    "nomeRas = numero + \". \"+ mes + \" \" + ano + \" Ras\"\n",
    "#######################################################\n",
    "\n",
    "print(f\"{nomeParts} -> Sendo criada\")\n",
    "tabelaParts = pd.read_excel(r\"\\\\C051mb30\\spool_rpw_prod\\Parts Center\\OS\\ESFT0001.xlsx\")\n",
    "#tabelaParts = pd.read_excel(r\"C:\\Users\\cveigam\\Desktop\\BI Sales planning\\ESFT0001.xlsx\")\n",
    "tabelaParts = tabelaParts.drop(\"UN\", axis = 1)\n",
    "tabelaParts = tabelaParts.drop(\"POLÍTICA\", axis = 1)\n",
    "tabelaParts = tabelaParts.drop(\"CLASSIF POLIT\", axis = 1)\n",
    "tabelaParts = tabelaParts.drop(\"DESC CLASSIF POLIT\", axis = 1)\n",
    "tabelaParts = tabelaParts.drop(\"COND PAGTO CLIENTE\", axis = 1)\n",
    "tabelaParts = tabelaParts.drop(\"COND PAGTO NF\", axis = 1)\n",
    "tabelaParts[\"Período\"] = mes+\"/20\"+ano\n",
    "\n",
    "colunas = tabelaParts.columns.to_list()\n",
    "\n",
    "tabelaParts = tabelaParts[['Período','ESTAB', 'CLIENTE', 'NOME', 'CIDADE', 'ESTADO', 'TIPO CLIENTE', 'VENDEDOR', 'DESC. VENDEDOR', 'NOME VENDEDOR', 'DATA', 'SERIE', 'NOTA FISCAL', 'PEDIDO', 'DATA PEDIDO', 'DEPÓSITO', 'ITEM', 'DESCRIÇÃO DO ITEM', 'TIPO DO ITEM', 'ACCONTING CLASS', 'CLASSIFICAÇÃO FISCAL', 'GRUPO ESTOQUE', 'DESC. GRUPO ESTOQUE', 'FAMILIA', 'DESCRIÇÃO FAMILIA', 'UNEG', 'CANAL DE VENDA', 'CFOP', 'DESCRIÇÃO CFOP', 'SINIIT', 'RTENTRAD', 'RTVENDA', 'RTNAC', 'RTMERC', ' QUANTIDADE', 'VALOR BRUTO', 'VALOR LÍQUIDO', 'ICMS', 'DIFAL DESTINO', 'FECP DIFAL', 'ICMS ST', 'FCP ST', 'IPI', 'PIS', 'COFINS', 'COFINS (RET)', 'INSS (RET)', 'ISS', 'ISS (RET)', 'IRRF (RET)', 'CSLL (RET)', 'PIS (RET)', 'CUSTO MÉDIO DO ITEM', 'CONTA CONTÁBIL', 'CENTRO DE CUSTO', 'STANDARD', 'CURRENT', 'PREÇO BASE', 'TERRIT', 'TXCLS', 'USUÁRIO NF', 'PROJETO', 'TIPO FRETE', 'ORIGEM', 'DESTINO MERCADORIA', 'TRANSPORTADORA', 'NOME TRANSPORTADOR', 'CÓDIGO CEST', 'SITUAÇÃO NOTA FISCAL', 'CHAVE ACESSO NF-e', 'NR PEDIDO', 'DT ENTREGA ORIG', 'CPF/CNPJ', 'DT RECONHECIMENTO', 'TABELA PREÇO', 'DT IMPLANTAÇÃO CLIENTE', 'LEAD TIME', 'FAMILIA COMERCIAL', 'DESCRIÇÃO FAMILIA COMERCIAL', 'DT NECESSIDADE', 'NR PED TRANSF']]\n",
    "\n",
    "tabelaParts.to_excel(rf\"C:\\Users\\cveigam\\Desktop\\BI Sales planning\\Formatadas\\{nomeParts}.xlsx\", index=False)\n",
    "\n",
    "print(f\"{nomeParts} -> Criada\")\n",
    "\n",
    "###########################################################\n",
    "\n",
    "print(f\"{nomeRas} -> Sendo criada\")\n",
    "tabelaRAS = pd.read_excel(r\"\\\\C051mb30\\spool_rpw_prod\\Parts Center\\OS\\RAS121AC.xlsx\")\n",
    "#tabelaRAS = pd.read_excel(r\"C:\\Users\\cveigam\\Desktop\\BI Sales planning\\RAS121AC.xlsx\")\n",
    "tamanho = len(tabelaRAS.index)\n",
    "tabelaRAS = tabelaRAS.drop(tamanho -1)\n",
    "tabelaRAS = tabelaRAS.rename(columns={'VALOR LIQUIDO ORIGINAL': 'VALOR LÍQUIDO ORIGINAL'})\n",
    "tabelaRAS = tabelaRAS.rename(columns={'CLASSIFICACAO': 'CLASSIFICAÇÃO'})\n",
    "tabelaRAS.to_excel(rf\"C:\\Users\\cveigam\\Desktop\\BI Sales planning\\Formatadas\\{nomeRas}.xlsx\", index=False)\n",
    "\n",
    "\n",
    "print(f\"{nomeRas} -> Criada\")"
   ]
  },
  {
   "cell_type": "code",
   "execution_count": 98,
   "id": "d989dd60-0ba6-4da1-85dd-e0d3b1512553",
   "metadata": {},
   "outputs": [
    {
     "name": "stdout",
     "output_type": "stream",
     "text": [
      "['ESTAB', 'CLIENTE', 'NOME', 'CIDADE', 'ESTADO', 'TIPO CLIENTE', 'VENDEDOR', 'DESC. VENDEDOR', 'NOME VENDEDOR', 'DATA', 'SERIE', 'NOTA FISCAL', 'PEDIDO', 'DATA PEDIDO', 'DEPÓSITO', 'ITEM', 'DESCRIÇÃO DO ITEM', 'TIPO DO ITEM', 'ACCONTING CLASS', 'CLASSIFICAÇÃO FISCAL', 'GRUPO ESTOQUE', 'DESC. GRUPO ESTOQUE', 'FAMILIA', 'DESCRIÇÃO FAMILIA', 'UNEG', 'CANAL DE VENDA', 'CFOP', 'DESCRIÇÃO CFOP', 'SINIIT', 'RTENTRAD', 'RTVENDA', 'RTNAC', 'RTMERC', ' QUANTIDADE', 'VALOR BRUTO', 'VALOR LÍQUIDO', 'ICMS', 'DIFAL DESTINO', 'FECP DIFAL', 'ICMS ST', 'FCP ST', 'IPI', 'PIS', 'COFINS', 'COFINS (RET)', 'INSS (RET)', 'ISS', 'ISS (RET)', 'IRRF (RET)', 'CSLL (RET)', 'PIS (RET)', 'CUSTO MÉDIO DO ITEM', 'CONTA CONTÁBIL', 'CENTRO DE CUSTO', 'STANDARD', 'CURRENT', 'PREÇO BASE', 'TERRIT', 'TXCLS', 'USUÁRIO NF', 'PROJETO', 'TIPO FRETE', 'ORIGEM', 'DESTINO MERCADORIA', 'TRANSPORTADORA', 'NOME TRANSPORTADOR', 'CÓDIGO CEST', 'SITUAÇÃO NOTA FISCAL', 'CHAVE ACESSO NF-e', 'NR PEDIDO', 'DT ENTREGA ORIG', 'CPF/CNPJ', 'DT RECONHECIMENTO', 'TABELA PREÇO', 'DT IMPLANTAÇÃO CLIENTE', 'LEAD TIME', 'FAMILIA COMERCIAL', 'DESCRIÇÃO FAMILIA COMERCIAL', 'DT NECESSIDADE', 'NR PED TRANSF', 'Período']\n"
     ]
    }
   ],
   "source": [
    "print(colunas)"
   ]
  },
  {
   "cell_type": "code",
   "execution_count": 2,
   "id": "966bb436-416d-42fb-97dd-5c1a1d973eb6",
   "metadata": {},
   "outputs": [],
   "source": [
    "## Passo a passo para calcular um numero"
   ]
  },
  {
   "cell_type": "code",
   "execution_count": null,
   "id": "7a80e1b0-c61b-4a76-be1c-20ddb70a95b7",
   "metadata": {},
   "outputs": [],
   "source": [
    "## Primeiro passo, crie uma variavel"
   ]
  },
  {
   "cell_type": "code",
   "execution_count": 7,
   "id": "98fd7896-5855-4eb4-988e-cf4d54002aeb",
   "metadata": {},
   "outputs": [],
   "source": [
    "numero1 = 12\n",
    "numero2 = 2\n",
    "resultado = 0"
   ]
  },
  {
   "cell_type": "code",
   "execution_count": 8,
   "id": "242cbd34-f700-4948-ae91-162611bb2bca",
   "metadata": {},
   "outputs": [],
   "source": [
    "#agora, some as duas"
   ]
  },
  {
   "cell_type": "code",
   "execution_count": 9,
   "id": "d572ece6-09f5-4116-a785-4f4bd54ec275",
   "metadata": {},
   "outputs": [],
   "source": [
    "resultado = numero1 + numero2"
   ]
  },
  {
   "cell_type": "code",
   "execution_count": 10,
   "id": "3b6a0e9c-b364-4a27-beee-81356cf0d33c",
   "metadata": {},
   "outputs": [
    {
     "name": "stdout",
     "output_type": "stream",
     "text": [
      "14\n"
     ]
    }
   ],
   "source": [
    "print(resultado)"
   ]
  },
  {
   "cell_type": "code",
   "execution_count": null,
   "id": "14aac705-54d1-44fb-8193-cafaac2c0dae",
   "metadata": {},
   "outputs": [],
   "source": []
  }
 ],
 "metadata": {
  "kernelspec": {
   "display_name": "Python 3 (ipykernel)",
   "language": "python",
   "name": "python3"
  },
  "language_info": {
   "codemirror_mode": {
    "name": "ipython",
    "version": 3
   },
   "file_extension": ".py",
   "mimetype": "text/x-python",
   "name": "python",
   "nbconvert_exporter": "python",
   "pygments_lexer": "ipython3",
   "version": "3.12.1"
  }
 },
 "nbformat": 4,
 "nbformat_minor": 5
}
