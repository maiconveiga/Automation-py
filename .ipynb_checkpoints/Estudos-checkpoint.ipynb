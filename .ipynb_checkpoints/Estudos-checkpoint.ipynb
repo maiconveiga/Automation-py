{
 "cells": [
  {
   "cell_type": "code",
   "execution_count": 2,
   "id": "badcd9bb-b8ec-4c72-b380-9695888a4691",
   "metadata": {},
   "outputs": [
    {
     "name": "stdout",
     "output_type": "stream",
     "text": [
      "Olá, sou Maicon Veiga\n"
     ]
    }
   ],
   "source": [
    "nome = \"Maicon\"\n",
    "sobrenome = \"Veiga\"\n",
    "print(\"Olá, sou \"+nome+\" \"+sobrenome)"
   ]
  },
  {
   "cell_type": "code",
   "execution_count": null,
   "id": "4ce6ae20-4e29-48d1-a03e-4f67b9bd10fa",
   "metadata": {},
   "outputs": [],
   "source": []
  }
 ],
 "metadata": {
  "kernelspec": {
   "display_name": "Python 3 (ipykernel)",
   "language": "python",
   "name": "python3"
  },
  "language_info": {
   "codemirror_mode": {
    "name": "ipython",
    "version": 3
   },
   "file_extension": ".py",
   "mimetype": "text/x-python",
   "name": "python",
   "nbconvert_exporter": "python",
   "pygments_lexer": "ipython3",
   "version": "3.12.1"
  }
 },
 "nbformat": 4,
 "nbformat_minor": 5
}
