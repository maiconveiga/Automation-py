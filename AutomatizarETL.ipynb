{
 "cells": [
  {
   "cell_type": "code",
   "execution_count": null,
   "id": "b3ab96db-5ed1-4d16-a820-3c0a9492c3ba",
   "metadata": {},
   "outputs": [],
   "source": [
    "## Primeiro importar a biblioteca do pandas"
   ]
  },
  {
   "cell_type": "code",
   "execution_count": 9,
   "id": "f9acdb2b-bd18-4770-b697-e3d0ef743ed1",
   "metadata": {},
   "outputs": [
    {
     "name": "stdin",
     "output_type": "stream",
     "text": [
      "Numero da tabela: 10\n",
      "Mês da tabela: 10\n",
      "Ano da tabela: 10\n"
     ]
    },
    {
     "name": "stdout",
     "output_type": "stream",
     "text": [
      "10. 10 10 Parts -> Sendo criada\n",
      "10. 10 10 Parts -> Criada\n",
      "10. 10 10 Ras -> Sendo criada\n",
      "10. 10 10 Ras -> Criada\n"
     ]
    }
   ],
   "source": [
    "import pandas as pd\n",
    "\n",
    "numero = input('Numero da tabela:')\n",
    "mes = input('Mês da tabela:')\n",
    "ano = input('Ano da tabela:')\n",
    "#######################################################\n",
    "nomeParts = numero + \". \"+ mes + \" \" + ano + \" Parts\"\n",
    "nomeRas = numero + \". \"+ mes + \" \" + ano + \" Ras\"\n",
    "#######################################################\n",
    "\n",
    "print(f\"{nomeParts} -> Sendo criada\")\n",
    "tabelaParts = pd.read_excel(r\"\\\\C051mb30\\spool_rpw_prod\\Parts Center\\OS\\ESFT0001.xlsx\")\n",
    "#tabelaParts = pd.read_excel(r\"C:\\Users\\cveigam\\Desktop\\BI Sales planning\\ESFT0001.xlsx\")\n",
    "tabelaParts = tabelaParts.drop(\"UN\", axis = 1)\n",
    "tabelaParts = tabelaParts.drop(\"POLÍTICA\", axis = 1)\n",
    "tabelaParts = tabelaParts.drop(\"CLASSIF POLIT\", axis = 1)\n",
    "tabelaParts = tabelaParts.drop(\"DESC CLASSIF POLIT\", axis = 1)\n",
    "tabelaParts = tabelaParts.drop(\"COND PAGTO CLIENTE\", axis = 1)\n",
    "tabelaParts = tabelaParts.drop(\"COND PAGTO NF\", axis = 1)\n",
    "tabelaParts = tabelaParts.rename(columns={' QUANTIDADE': 'QUANTIDADE '})\n",
    "tabelaParts = tabelaParts.rename(columns={'VALOR BRUTO': 'VALOR BRUTO '})\n",
    "tabelaParts = tabelaParts.rename(columns={'VALOR LÍQUIDO': 'VALOR LÍQUIDO '})\n",
    "tabelaParts = tabelaParts.rename(columns={'COFINS (RET)': 'COFINS (RET) '})\n",
    "tabelaParts = tabelaParts.rename(columns={'INSS (RET)': 'INSS (RET) '})\n",
    "tabelaParts = tabelaParts.rename(columns={'ISS (RET)': 'ISS (RET) '})\n",
    "tabelaParts = tabelaParts.rename(columns={'CUSTO MÉDIO DO ITEM': 'CUSTO MÉDIO DO ITEM '})\n",
    "tabelaParts = tabelaParts.rename(columns={'CENTRO DE CUSTO': 'CENTRO DE CUSTO '})\n",
    "tabelaParts = tabelaParts.rename(columns={'CÓDIGO CEST': 'CÓDIGO CEST '})\n",
    "tabelaParts = tabelaParts.rename(columns={'SITUAÇÃO NOTA FISCAL': 'SITUAÇÃO NOTA FISCAL '})\n",
    "tabelaParts = tabelaParts.rename(columns={'NR PED TRANSF': 'NR PED TRANSF.'})\n",
    "\n",
    "tabelaParts[\"Período\"] = mes+\"/20\"+ano\n",
    "\n",
    "\n",
    "colunas = tabelaParts.columns.to_list()\n",
    "#print(colunas)\n",
    "\n",
    "tabelaParts = tabelaParts[['Período','ESTAB', 'CLIENTE', 'NOME', 'CIDADE', 'ESTADO', 'TIPO CLIENTE', 'VENDEDOR', 'DESC. VENDEDOR', 'NOME VENDEDOR', 'DATA', 'SERIE', 'NOTA FISCAL', 'PEDIDO', 'DATA PEDIDO', 'DEPÓSITO', 'ITEM', 'DESCRIÇÃO DO ITEM', 'TIPO DO ITEM', 'ACCONTING CLASS', 'CLASSIFICAÇÃO FISCAL', 'GRUPO ESTOQUE', 'DESC. GRUPO ESTOQUE', 'FAMILIA', 'DESCRIÇÃO FAMILIA', 'UNEG', 'CANAL DE VENDA', 'CFOP', 'DESCRIÇÃO CFOP', 'SINIIT', 'RTENTRAD', 'RTVENDA', 'RTNAC', 'RTMERC', 'QUANTIDADE ', 'VALOR BRUTO ', 'VALOR LÍQUIDO ', 'ICMS', 'DIFAL DESTINO', 'FECP DIFAL', 'ICMS ST', 'FCP ST', 'IPI', 'PIS', 'COFINS', 'COFINS (RET) ', 'INSS (RET) ', 'ISS', 'ISS (RET) ', 'IRRF (RET)', 'CSLL (RET)', 'PIS (RET)', 'CUSTO MÉDIO DO ITEM ', 'CONTA CONTÁBIL', 'CENTRO DE CUSTO ', 'STANDARD', 'CURRENT', 'PREÇO BASE', 'TERRIT', 'TXCLS', 'USUÁRIO NF', 'PROJETO', 'TIPO FRETE', 'ORIGEM', 'DESTINO MERCADORIA', 'TRANSPORTADORA', 'NOME TRANSPORTADOR', 'CÓDIGO CEST ', 'SITUAÇÃO NOTA FISCAL ', 'CHAVE ACESSO NF-e', 'NR PEDIDO', 'DT ENTREGA ORIG', 'CPF/CNPJ', 'DT RECONHECIMENTO', 'TABELA PREÇO', 'DT IMPLANTAÇÃO CLIENTE', 'LEAD TIME', 'FAMILIA COMERCIAL', 'DESCRIÇÃO FAMILIA COMERCIAL', 'DT NECESSIDADE', 'NR PED TRANSF.']]\n",
    "\n",
    "#tabelaParts.to_excel(rf\"C:\\Users\\cveigam\\Desktop\\BI Sales planning\\Formatadas\\{nomeParts}.xlsx\", index=False)\n",
    "writer = pd.ExcelWriter(rf\"C:\\Users\\cveigam\\Desktop\\BI Sales planning\\Formatadas\\{nomeParts}.xlsx\")\n",
    "tabelaRAS.to_excel(writer, sheet_name='New Parts', index=False)\n",
    "writer.close()\n",
    "\n",
    "\n",
    "print(f\"{nomeParts} -> Criada\")\n",
    "\n",
    "###########################################################\n",
    "\n",
    "print(f\"{nomeRas} -> Sendo criada\")\n",
    "tabelaRAS = pd.read_excel(r\"\\\\C051mb30\\spool_rpw_prod\\Parts Center\\OS\\RAS121AC.xlsx\")\n",
    "#tabelaRAS = pd.read_excel(r\"C:\\Users\\cveigam\\Desktop\\BI Sales planning\\RAS121AC.xlsx\")\n",
    "tamanho = len(tabelaRAS.index)\n",
    "tabelaRAS = tabelaRAS.drop(tamanho -1)\n",
    "tabelaRAS = tabelaRAS.rename(columns={'VALOR LIQUIDO ORIGINAL': 'VALOR LÍQUIDO ORIGINAL'})\n",
    "tabelaRAS = tabelaRAS.rename(columns={'CLASSIFICACAO': 'CLASSIFICAÇÃO'})\n",
    "#tabelaRAS.to_excel(rf\"C:\\Users\\cveigam\\Desktop\\BI Sales planning\\Formatadas\\{nomeRas}.xlsx\", index=False)\n",
    "\n",
    "writer = pd.ExcelWriter(rf\"C:\\Users\\cveigam\\Desktop\\BI Sales planning\\Formatadas\\{nomeRas}.xlsx\")\n",
    "tabelaRAS.to_excel(writer, sheet_name='RAS', index=False)\n",
    "writer.close()\n",
    "\n",
    "\n",
    "print(f\"{nomeRas} -> Criada\")"
   ]
  },
  {
   "cell_type": "code",
   "execution_count": 2,
   "id": "966bb436-416d-42fb-97dd-5c1a1d973eb6",
   "metadata": {},
   "outputs": [],
   "source": [
    "## Passo a passo para calcular um numero"
   ]
  },
  {
   "cell_type": "code",
   "execution_count": null,
   "id": "7a80e1b0-c61b-4a76-be1c-20ddb70a95b7",
   "metadata": {},
   "outputs": [],
   "source": [
    "## Primeiro passo, crie uma variavel"
   ]
  },
  {
   "cell_type": "code",
   "execution_count": 8,
   "id": "242cbd34-f700-4948-ae91-162611bb2bca",
   "metadata": {},
   "outputs": [],
   "source": [
    "#agora, some as duas"
   ]
  },
  {
   "cell_type": "code",
   "execution_count": null,
   "id": "14aac705-54d1-44fb-8193-cafaac2c0dae",
   "metadata": {},
   "outputs": [],
   "source": []
  }
 ],
 "metadata": {
  "kernelspec": {
   "display_name": "Python 3 (ipykernel)",
   "language": "python",
   "name": "python3"
  },
  "language_info": {
   "codemirror_mode": {
    "name": "ipython",
    "version": 3
   },
   "file_extension": ".py",
   "mimetype": "text/x-python",
   "name": "python",
   "nbconvert_exporter": "python",
   "pygments_lexer": "ipython3",
   "version": "3.12.1"
  }
 },
 "nbformat": 4,
 "nbformat_minor": 5
}
