{
 "cells": [
  {
   "cell_type": "code",
   "execution_count": 40,
   "id": "badcd9bb-b8ec-4c72-b380-9695888a4691",
   "metadata": {},
   "outputs": [
    {
     "name": "stdout",
     "output_type": "stream",
     "text": [
      "Olá, sou Maicon Veiga\n",
      "E meu é veiga.maicon@gmail.com\n",
      "E meu é veiga.maicon@gmail.com\n",
      "Primeira letra do seu nome é M\n",
      "Primeira letra do seu sobrenome é V\n",
      "As duas primeiras letras do meu usuario é ve\n",
      "veiga.maicon\n",
      "@gmail.com\n"
     ]
    }
   ],
   "source": [
    "nome = \"Maicon\"\n",
    "sobrenome = \"Veiga\"\n",
    "email = \"veiga.maicon@gmail.com\"\n",
    "\n",
    "print(f\"Olá, sou {nome} {sobrenome}\")\n",
    "print(f\"E meu é {email}\")\n",
    "print(f\"E meu é {usuario}\")\n",
    "print(f\"Primeira letra do seu nome é {nome[0]}\")\n",
    "print(f\"Primeira letra do seu sobrenome é {sobrenome[0]}\")\n",
    "print(f\"As duas primeiras letras do meu usuario é {usuario[0:2]}\")\n",
    "\n",
    "arroba = email.find(\"@\")\n",
    "print(email[0:arroba])\n",
    "print(email[arroba:len(email)])\n"
   ]
  },
  {
   "cell_type": "code",
   "execution_count": 48,
   "id": "ad0d48af-5ab6-4efe-b913-76f35fa13087",
   "metadata": {},
   "outputs": [
    {
     "name": "stdout",
     "output_type": "stream",
     "text": [
      "\n"
     ]
    }
   ],
   "source": [
    "cargos = \"Tec; Technician; manager; planner\"\n",
    "pi = cargos.find(\"Tec\")\n",
    "pf = cargos.find(\";\")\n",
    "print(cargos[pi:pf])"
   ]
  },
  {
   "cell_type": "code",
   "execution_count": null,
   "id": "0289fccf-1c0b-4501-bfc9-ae0babaf52a5",
   "metadata": {},
   "outputs": [],
   "source": []
  }
 ],
 "metadata": {
  "kernelspec": {
   "display_name": "Python 3 (ipykernel)",
   "language": "python",
   "name": "python3"
  },
  "language_info": {
   "codemirror_mode": {
    "name": "ipython",
    "version": 3
   },
   "file_extension": ".py",
   "mimetype": "text/x-python",
   "name": "python",
   "nbconvert_exporter": "python",
   "pygments_lexer": "ipython3",
   "version": "3.12.1"
  }
 },
 "nbformat": 4,
 "nbformat_minor": 5
}
